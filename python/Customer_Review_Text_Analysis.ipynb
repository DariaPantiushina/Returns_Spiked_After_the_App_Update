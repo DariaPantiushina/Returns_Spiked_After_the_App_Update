{
 "cells": [
  {
   "cell_type": "markdown",
   "id": "4879b3a9",
   "metadata": {},
   "source": [
    "TEXT CLUSTERING FOR CUSTOMER COMMENTS"
   ]
  },
  {
   "cell_type": "code",
   "execution_count": 1,
   "id": "78c5e248",
   "metadata": {},
   "outputs": [],
   "source": [
    "import numpy as np\n",
    "import pandas as pd\n",
    "import re\n",
    "import nltk\n",
    "from sklearn.feature_extraction.text import TfidfVectorizer\n",
    "from sklearn.cluster import KMeans\n",
    "from sklearn.metrics import silhouette_score\n",
    "from nltk.corpus import stopwords\n",
    "from nltk.stem import WordNetLemmatizer\n",
    "import matplotlib.pyplot as plt"
   ]
  },
  {
   "cell_type": "code",
   "execution_count": 2,
   "id": "ac3fea09",
   "metadata": {},
   "outputs": [
    {
     "name": "stderr",
     "output_type": "stream",
     "text": [
      "[nltk_data] Downloading package stopwords to\n",
      "[nltk_data]     C:\\Users\\panty\\AppData\\Roaming\\nltk_data...\n",
      "[nltk_data]   Package stopwords is already up-to-date!\n",
      "[nltk_data] Downloading package wordnet to\n",
      "[nltk_data]     C:\\Users\\panty\\AppData\\Roaming\\nltk_data...\n",
      "[nltk_data]   Package wordnet is already up-to-date!\n"
     ]
    }
   ],
   "source": [
    "# Setup\n",
    "nltk.download('stopwords')\n",
    "nltk.download('wordnet')\n",
    "\n",
    "# Load the data\n",
    "df = pd.read_csv(\"customer_comments_with_dates.csv\")\n",
    "\n",
    "# Convert comment_date column to datetime type\n",
    "df[\"comment_date\"] = pd.to_datetime(df[\"comment_date\"])\n",
    "\n",
    "# Keep only comments within the first 2 weeks after release\n",
    "start_date = \"2025-06-15\"\n",
    "end_date = \"2025-06-30\"\n",
    "df = df[(df[\"comment_date\"] >= start_date) & (df[\"comment_date\"] <= end_date)]\n",
    "\n",
    "# Remove empty comments\n",
    "df = df.dropna(subset=[\"comment\"])"
   ]
  },
  {
   "cell_type": "code",
   "execution_count": 3,
   "id": "51ad67ee",
   "metadata": {},
   "outputs": [
    {
     "data": {
      "text/html": [
       "<div>\n",
       "<style scoped>\n",
       "    .dataframe tbody tr th:only-of-type {\n",
       "        vertical-align: middle;\n",
       "    }\n",
       "\n",
       "    .dataframe tbody tr th {\n",
       "        vertical-align: top;\n",
       "    }\n",
       "\n",
       "    .dataframe thead th {\n",
       "        text-align: right;\n",
       "    }\n",
       "</style>\n",
       "<table border=\"1\" class=\"dataframe\">\n",
       "  <thead>\n",
       "    <tr style=\"text-align: right;\">\n",
       "      <th></th>\n",
       "      <th>review_id</th>\n",
       "      <th>region</th>\n",
       "      <th>device</th>\n",
       "      <th>comment</th>\n",
       "      <th>comment_date</th>\n",
       "    </tr>\n",
       "  </thead>\n",
       "  <tbody>\n",
       "    <tr>\n",
       "      <th>0</th>\n",
       "      <td>1</td>\n",
       "      <td>EU</td>\n",
       "      <td>Android</td>\n",
       "      <td>Every time I add something, it just vanishes f...</td>\n",
       "      <td>2025-06-16 21:25:51</td>\n",
       "    </tr>\n",
       "    <tr>\n",
       "      <th>1</th>\n",
       "      <td>2</td>\n",
       "      <td>EU</td>\n",
       "      <td>Android</td>\n",
       "      <td>Checkout button randomly disappears, can't com...</td>\n",
       "      <td>2025-06-22 10:38:01</td>\n",
       "    </tr>\n",
       "    <tr>\n",
       "      <th>2</th>\n",
       "      <td>3</td>\n",
       "      <td>US</td>\n",
       "      <td>Android</td>\n",
       "      <td>This new design made ordering so inconvenient</td>\n",
       "      <td>2025-06-16 16:29:17</td>\n",
       "    </tr>\n",
       "    <tr>\n",
       "      <th>3</th>\n",
       "      <td>4</td>\n",
       "      <td>EU</td>\n",
       "      <td>Android</td>\n",
       "      <td>Super confusing checkout flow, lost patience h...</td>\n",
       "      <td>2025-06-20 06:02:02</td>\n",
       "    </tr>\n",
       "    <tr>\n",
       "      <th>4</th>\n",
       "      <td>5</td>\n",
       "      <td>ASIA</td>\n",
       "      <td>iOS</td>\n",
       "      <td>Easy to find what I need, filters work great</td>\n",
       "      <td>2025-06-21 11:19:24</td>\n",
       "    </tr>\n",
       "    <tr>\n",
       "      <th>...</th>\n",
       "      <td>...</td>\n",
       "      <td>...</td>\n",
       "      <td>...</td>\n",
       "      <td>...</td>\n",
       "      <td>...</td>\n",
       "    </tr>\n",
       "    <tr>\n",
       "      <th>95</th>\n",
       "      <td>96</td>\n",
       "      <td>EU</td>\n",
       "      <td>Android</td>\n",
       "      <td>Not sure what happened but placing an order is...</td>\n",
       "      <td>2025-06-20 16:50:50</td>\n",
       "    </tr>\n",
       "    <tr>\n",
       "      <th>96</th>\n",
       "      <td>97</td>\n",
       "      <td>US</td>\n",
       "      <td>iOS</td>\n",
       "      <td>Filters work really good</td>\n",
       "      <td>2025-06-23 07:21:07</td>\n",
       "    </tr>\n",
       "    <tr>\n",
       "      <th>97</th>\n",
       "      <td>98</td>\n",
       "      <td>EU</td>\n",
       "      <td>Android</td>\n",
       "      <td>Super confusing checkout</td>\n",
       "      <td>2025-06-19 09:56:45</td>\n",
       "    </tr>\n",
       "    <tr>\n",
       "      <th>98</th>\n",
       "      <td>99</td>\n",
       "      <td>EU</td>\n",
       "      <td>Android</td>\n",
       "      <td>The cart became so inconvenient, takes forever...</td>\n",
       "      <td>2025-06-18 12:13:33</td>\n",
       "    </tr>\n",
       "    <tr>\n",
       "      <th>99</th>\n",
       "      <td>100</td>\n",
       "      <td>US</td>\n",
       "      <td>Android</td>\n",
       "      <td>I like the clean interface and easy navigation...</td>\n",
       "      <td>2025-06-20 23:13:41</td>\n",
       "    </tr>\n",
       "  </tbody>\n",
       "</table>\n",
       "<p>94 rows × 5 columns</p>\n",
       "</div>"
      ],
      "text/plain": [
       "    review_id region   device  \\\n",
       "0           1     EU  Android   \n",
       "1           2     EU  Android   \n",
       "2           3     US  Android   \n",
       "3           4     EU  Android   \n",
       "4           5   ASIA      iOS   \n",
       "..        ...    ...      ...   \n",
       "95         96     EU  Android   \n",
       "96         97     US      iOS   \n",
       "97         98     EU  Android   \n",
       "98         99     EU  Android   \n",
       "99        100     US  Android   \n",
       "\n",
       "                                              comment        comment_date  \n",
       "0   Every time I add something, it just vanishes f... 2025-06-16 21:25:51  \n",
       "1   Checkout button randomly disappears, can't com... 2025-06-22 10:38:01  \n",
       "2       This new design made ordering so inconvenient 2025-06-16 16:29:17  \n",
       "3   Super confusing checkout flow, lost patience h... 2025-06-20 06:02:02  \n",
       "4        Easy to find what I need, filters work great 2025-06-21 11:19:24  \n",
       "..                                                ...                 ...  \n",
       "95  Not sure what happened but placing an order is... 2025-06-20 16:50:50  \n",
       "96                           Filters work really good 2025-06-23 07:21:07  \n",
       "97                           Super confusing checkout 2025-06-19 09:56:45  \n",
       "98  The cart became so inconvenient, takes forever... 2025-06-18 12:13:33  \n",
       "99  I like the clean interface and easy navigation... 2025-06-20 23:13:41  \n",
       "\n",
       "[94 rows x 5 columns]"
      ]
     },
     "execution_count": 3,
     "metadata": {},
     "output_type": "execute_result"
    }
   ],
   "source": [
    "df"
   ]
  },
  {
   "cell_type": "code",
   "execution_count": 4,
   "id": "056ea482",
   "metadata": {},
   "outputs": [],
   "source": [
    "# Text cleaning and preprocessing\n",
    "stop_words = set(stopwords.words('english'))  \n",
    "lemmatizer = WordNetLemmatizer()\n",
    "\n",
    "def clean_text(text):\n",
    "    text = str(text).lower()\n",
    "    text = re.sub(r\"[^a-zA-Z]\", \" \", text)  # keep only letters\n",
    "    words = text.split()\n",
    "    words = [w for w in words if w not in stop_words] # remove stopwords\n",
    "    words = [lemmatizer.lemmatize(w) for w in words] # lemmatization\n",
    "    return \" \".join(words)\n",
    "\n",
    "df[\"clean_text\"] = df[\"comment\"].apply(clean_text)"
   ]
  },
  {
   "cell_type": "code",
   "execution_count": 5,
   "id": "46ff8469",
   "metadata": {},
   "outputs": [],
   "source": [
    "# TF-IDF vectorization\n",
    "vectorizer = TfidfVectorizer(max_features = 5000)\n",
    "X = vectorizer.fit_transform(df[\"clean_text\"])"
   ]
  },
  {
   "cell_type": "code",
   "execution_count": 6,
   "id": "20476624",
   "metadata": {},
   "outputs": [
    {
     "data": {
      "image/png": "[encoded data removed]",
      "text/plain": [
       "<Figure size 432x288 with 1 Axes>"
      ]
     },
     "metadata": {
      "needs_background": "light"
     },
     "output_type": "display_data"
    }
   ],
   "source": [
    "# Find the optimal number of clusters (Elbow method)\n",
    "inertia = []\n",
    "K_range = range(2, 9)\n",
    "for k in K_range:\n",
    "    km = KMeans(n_clusters = k, random_state = 42)\n",
    "    km.fit(X)\n",
    "    inertia.append(km.inertia_)\n",
    "\n",
    "plt.plot(K_range, inertia, marker = \"o\")\n",
    "plt.xlabel(\"Number of clusters (k)\")\n",
    "plt.ylabel(\"Inertia (Elbow)\")\n",
    "plt.title(\"Finding optimal number of clusters (Elbow method)\")\n",
    "plt.show()"
   ]
  },
  {
   "cell_type": "markdown",
   "id": "38aa338f",
   "metadata": {},
   "source": [
    "The Elbow method curve shows a sharp drop in inertia between k=2 and k=3, after which the decrease becomes much more gradual. This indicates that the main structure in the data is captured with 3 clusters. So k = 3 is selected as the optimal number of clusters for this analysis"
   ]
  },
  {
   "cell_type": "code",
   "execution_count": 7,
   "id": "957be244",
   "metadata": {},
   "outputs": [],
   "source": [
    "# Final clustering\n",
    "kmeans = KMeans(n_clusters = 3, random_state = 42)\n",
    "df[\"cluster\"] = kmeans.fit_predict(X)"
   ]
  },
  {
   "cell_type": "code",
   "execution_count": 8,
   "id": "04fd177a",
   "metadata": {},
   "outputs": [
    {
     "name": "stdout",
     "output_type": "stream",
     "text": [
      "Silhouette score: 0.063\n"
     ]
    }
   ],
   "source": [
    "# Cluster quality evaluation\n",
    "score = silhouette_score(X, df[\"cluster\"])\n",
    "print(f\"Silhouette score: {score:.3f}\")"
   ]
  },
  {
   "cell_type": "code",
   "execution_count": 9,
   "id": "cd4a4714",
   "metadata": {},
   "outputs": [
    {
     "name": "stdout",
     "output_type": "stream",
     "text": [
      "\n",
      "Cluster 0: checkout | order | design | super | smooth | new | feel | confusing | product | love\n",
      "Example comments:\n",
      "   - Checkout button randomly disappears, can't complete my order\n",
      "   - This new design made ordering so inconvenient\n",
      "   - Super confusing checkout flow, lost patience halfway\n",
      "\n",
      "Cluster 1: customer | refund | quickly | got | helpful | support | top | notch | service | solved\n",
      "Example comments:\n",
      "   - Got my refund quickly, customer support was helpful\n",
      "   - Got my refund quickly, customer support was helpful\n",
      "   - Customer service is top-notch, solved my issue fast\n",
      "\n",
      "Cluster 2: cart | became | shopping | inconvenient | update | add | see | item | ui | anymore\n",
      "Example comments:\n",
      "   - Every time I add something, it just vanishes from the cart\n",
      "   - After the update, I stopped buying because the cart is broken\n",
      "   - After the update, the cart became inconvenient and slow\n"
     ]
    }
   ],
   "source": [
    "# Show top terms and sample comments per cluster\n",
    "terms = vectorizer.get_feature_names_out()\n",
    "for i in range(3):\n",
    "    cluster_terms = kmeans.cluster_centers_[i].argsort()[-10:][::-1]\n",
    "    top_terms = [terms[ind] for ind in cluster_terms]\n",
    "    print(f\"\\nCluster {i}: {' | '.join(top_terms)}\")\n",
    "    sample = df[df.cluster == i][\"comment\"].head(3).to_list()\n",
    "    print(\"Example comments:\")\n",
    "    for s in sample:\n",
    "        print(\"   -\", s)"
   ]
  }
 ],
 "metadata": {
  "kernelspec": {
   "display_name": "Python 3 (ipykernel)",
   "language": "python",
   "name": "python3"
  },
  "language_info": {
   "codemirror_mode": {
    "name": "ipython",
    "version": 3
   },
   "file_extension": ".py",
   "mimetype": "text/x-python",
   "name": "python",
   "nbconvert_exporter": "python",
   "pygments_lexer": "ipython3",
   "version": "3.9.7"
  }
 },
 "nbformat": 4,
 "nbformat_minor": 5
}
